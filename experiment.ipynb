{
 "cells": [
  {
   "cell_type": "code",
   "execution_count": 1,
   "metadata": {
    "collapsed": true
   },
   "outputs": [],
   "source": [
    "import numpy as np\n",
    "import matplotlib.pyplot as plt"
   ]
  },
  {
   "cell_type": "code",
   "execution_count": 2,
   "metadata": {
    "collapsed": true
   },
   "outputs": [],
   "source": [
    "# reshape the data as a matrix\n",
    "def get_data(dataset, N, M):\n",
    "\tdata = np.zeros((N, M))\n",
    "\twith open(dataset) as f:\n",
    "\t\tfor line in f:\n",
    "\t\t\tuser, item, record, timestamp = line.split()\n",
    "\t\t\tdata[int(user)-1][int(item)-1] = float(record)\n",
    "\treturn data"
   ]
  },
  {
   "cell_type": "code",
   "execution_count": 3,
   "metadata": {
    "collapsed": true
   },
   "outputs": [],
   "source": [
    "# loss\n",
    "def error_calculation(R_origin, P, Q, N, M, K, beta):\n",
    "\terror = 0.0\n",
    "\tfor i in range(N):\n",
    "\t\tfor j in range(M):\n",
    "\t\t\tif R_origin[i][j]>0:\n",
    "\t\t\t\terror += pow(R_origin[i][j] - np.dot(P[i,:], Q[:,j]), 2)\n",
    "\t\t\t\tfor k in range(K):\n",
    "\t\t\t\t\terror += (beta/2)*(pow(P[i][k], 2) + pow(Q[k][j], 2))\n",
    "\terror = np.sqrt(error / len(R_origin[R_origin!=0]))\n",
    "\treturn error"
   ]
  },
  {
   "cell_type": "code",
   "execution_count": 4,
   "metadata": {
    "collapsed": true
   },
   "outputs": [],
   "source": [
    "# mean absolute error\n",
    "def MAE(R_origin, P, Q, N, M, K, beta):\n",
    "\terror = 0.0\n",
    "\tfor i in range(N):\n",
    "\t\tfor j in range(M):\n",
    "\t\t\tif R_origin[i][j]>0:\n",
    "\t\t\t\terror += np.abs(R_origin[i][j] - np.dot(P[i,:], Q[:,j]))\n",
    "\terror = error / len(R_origin[R_origin!=0])\n",
    "\treturn error"
   ]
  },
  {
   "cell_type": "code",
   "execution_count": 5,
   "metadata": {
    "collapsed": true
   },
   "outputs": [],
   "source": [
    "def matrix_factorization(R, P, Q, N, M, K, R_test, epochs, alpha, beta):\n",
    "\ttrain_error_list = []\n",
    "\ttest_error_list = []\n",
    "\n",
    "\t# calculate the training error\n",
    "\ttrain_error = MAE(R, P, Q, N, M, K, beta)\n",
    "\ttrain_error_list.append(train_error)\n",
    "\n",
    "\t# calculate the testing error\n",
    "\ttest_error = MAE(R_test, P, Q, N, M, K, beta)\n",
    "\ttest_error_list.append(test_error)\n",
    "\n",
    "\tprint(\"epoch[0][%s] training error: %.4f, testing error: %.4f\"\\\n",
    "\t\t%(epochs, train_error, test_error))\n",
    "\n",
    "\tfor epoch in range(epochs):\n",
    "\t\tfor i in range(N):\n",
    "\t\t\tfor j in range(M):\n",
    "\t\t\t\tif R[i][j]>0:\n",
    "\t\t\t\t\teij = R[i][j] - np.dot(P[i,:], Q[:,j])\n",
    "\t\t\t\t\tfor k in range(K):\n",
    "\t\t\t\t\t\tP[i][k] = P[i][k]+alpha*(2*eij*Q[k][j]-beta*P[i][k])\n",
    "\t\t\t\t\t\tQ[k][j] = Q[k][j]+alpha*(2*eij*P[i][k]-beta*Q[k][j])\n",
    "\n",
    "\t\t# calculate the training error\n",
    "\t\ttrain_error = MAE(R, P, Q, N, M, K, beta)\n",
    "\t\ttrain_error_list.append(train_error)\n",
    "\n",
    "\t\t# calculate the testing error\n",
    "\t\ttest_error = MAE(R_test, P, Q, N, M, K, beta)\n",
    "\t\ttest_error_list.append(test_error)\n",
    "\n",
    "\t\tprint(\"epoch[%s][%s] training error: %.4f, testing error: %.4f\"\\\n",
    "\t\t\t%(epoch+1, epochs, train_error, test_error))\n",
    "\n",
    "\treturn train_error_list, test_error_list, P, Q"
   ]
  },
  {
   "cell_type": "code",
   "execution_count": 6,
   "metadata": {
    "collapsed": true
   },
   "outputs": [],
   "source": [
    "def plot_loss(training_loss, testing_loss):\n",
    "    x = np.array(range(1, len(training_loss)+1))\n",
    "    plt.figure()\n",
    "    plt.plot(x, np.array(training_loss), label=\"Training Error\")\n",
    "    plt.plot(x, np.array(testing_loss), label=\"Validation Error\")\n",
    "    plt.xlabel(\"Epoch\")\n",
    "    plt.ylabel(\"Loss\")\n",
    "    plt.title(\"Experiment\")\n",
    "    plt.grid()\n",
    "    plt.legend()\n",
    "    plt.show()"
   ]
  },
  {
   "cell_type": "code",
   "execution_count": 7,
   "metadata": {
    "collapsed": true
   },
   "outputs": [],
   "source": [
    "# the main function\n",
    "def main():\n",
    "\t# hpyer-parameter K is always from 10 to 100\n",
    "\tN = 943\n",
    "\tM = 1682\n",
    "\tK = 5\n",
    "\n",
    "\tepochs = 100\n",
    "\talpha = 0.002\n",
    "\tbeta = 0.02\n",
    "\n",
    "\t# get data\n",
    "\ttraining_data = get_data(dataset='./u1.base', N=N, M=M)\n",
    "\ttesting_data = get_data(dataset='./u1.test', N=N, M=M)\n",
    "\n",
    "\t# initialize matrix P and Q\n",
    "\tP = np.random.rand(N, K)\n",
    "\tQ = np.random.rand(K, M)\n",
    "\n",
    "\ttrain_error_list, test_error_list, P, Q = matrix_factorization(R=training_data,\\\n",
    "\t\tP=P, Q=Q, N=N, M=M, K=K, R_test=testing_data, epochs=epochs, alpha=alpha, \\\n",
    "\t\tbeta=beta)\n",
    "\n",
    "\tplot_loss(train_error_list, test_error_list)\n"
   ]
  },
  {
   "cell_type": "code",
   "execution_count": 8,
   "metadata": {},
   "outputs": [
    {
     "name": "stdout",
     "output_type": "stream",
     "text": [
      "epoch[0][100] training error: 2.3142, testing error: 2.3201\n",
      "epoch[1][100] training error: 1.0104, testing error: 1.0706\n",
      "epoch[2][100] training error: 0.8190, testing error: 0.8772\n",
      "epoch[3][100] training error: 0.7765, testing error: 0.8260\n",
      "epoch[4][100] training error: 0.7569, testing error: 0.8020\n",
      "epoch[5][100] training error: 0.7459, testing error: 0.7891\n",
      "epoch[6][100] training error: 0.7389, testing error: 0.7814\n",
      "epoch[7][100] training error: 0.7341, testing error: 0.7765\n",
      "epoch[8][100] training error: 0.7305, testing error: 0.7731\n",
      "epoch[9][100] training error: 0.7277, testing error: 0.7706\n",
      "epoch[10][100] training error: 0.7254, testing error: 0.7688\n",
      "epoch[11][100] training error: 0.7234, testing error: 0.7675\n",
      "epoch[12][100] training error: 0.7216, testing error: 0.7665\n",
      "epoch[13][100] training error: 0.7200, testing error: 0.7657\n",
      "epoch[14][100] training error: 0.7185, testing error: 0.7652\n",
      "epoch[15][100] training error: 0.7171, testing error: 0.7647\n",
      "epoch[16][100] training error: 0.7157, testing error: 0.7644\n",
      "epoch[17][100] training error: 0.7144, testing error: 0.7641\n",
      "epoch[18][100] training error: 0.7130, testing error: 0.7639\n",
      "epoch[19][100] training error: 0.7117, testing error: 0.7638\n",
      "epoch[20][100] training error: 0.7103, testing error: 0.7636\n",
      "epoch[21][100] training error: 0.7089, testing error: 0.7635\n",
      "epoch[22][100] training error: 0.7075, testing error: 0.7634\n",
      "epoch[23][100] training error: 0.7061, testing error: 0.7633\n",
      "epoch[24][100] training error: 0.7046, testing error: 0.7632\n",
      "epoch[25][100] training error: 0.7031, testing error: 0.7630\n",
      "epoch[26][100] training error: 0.7015, testing error: 0.7628\n",
      "epoch[27][100] training error: 0.6999, testing error: 0.7627\n",
      "epoch[28][100] training error: 0.6983, testing error: 0.7624\n",
      "epoch[29][100] training error: 0.6966, testing error: 0.7622\n",
      "epoch[30][100] training error: 0.6949, testing error: 0.7619\n",
      "epoch[31][100] training error: 0.6932, testing error: 0.7616\n",
      "epoch[32][100] training error: 0.6915, testing error: 0.7613\n",
      "epoch[33][100] training error: 0.6897, testing error: 0.7609\n",
      "epoch[34][100] training error: 0.6880, testing error: 0.7605\n",
      "epoch[35][100] training error: 0.6862, testing error: 0.7601\n",
      "epoch[36][100] training error: 0.6845, testing error: 0.7597\n",
      "epoch[37][100] training error: 0.6828, testing error: 0.7592\n",
      "epoch[38][100] training error: 0.6811, testing error: 0.7588\n",
      "epoch[39][100] training error: 0.6794, testing error: 0.7583\n",
      "epoch[40][100] training error: 0.6778, testing error: 0.7578\n",
      "epoch[41][100] training error: 0.6762, testing error: 0.7573\n",
      "epoch[42][100] training error: 0.6747, testing error: 0.7569\n",
      "epoch[43][100] training error: 0.6731, testing error: 0.7564\n",
      "epoch[44][100] training error: 0.6717, testing error: 0.7559\n",
      "epoch[45][100] training error: 0.6702, testing error: 0.7555\n",
      "epoch[46][100] training error: 0.6688, testing error: 0.7551\n",
      "epoch[47][100] training error: 0.6675, testing error: 0.7547\n",
      "epoch[48][100] training error: 0.6662, testing error: 0.7543\n",
      "epoch[49][100] training error: 0.6649, testing error: 0.7540\n",
      "epoch[50][100] training error: 0.6637, testing error: 0.7536\n",
      "epoch[51][100] training error: 0.6625, testing error: 0.7533\n",
      "epoch[52][100] training error: 0.6613, testing error: 0.7530\n",
      "epoch[53][100] training error: 0.6602, testing error: 0.7527\n",
      "epoch[54][100] training error: 0.6591, testing error: 0.7524\n",
      "epoch[55][100] training error: 0.6581, testing error: 0.7521\n",
      "epoch[56][100] training error: 0.6571, testing error: 0.7518\n",
      "epoch[57][100] training error: 0.6561, testing error: 0.7516\n",
      "epoch[58][100] training error: 0.6552, testing error: 0.7514\n",
      "epoch[59][100] training error: 0.6543, testing error: 0.7512\n",
      "epoch[60][100] training error: 0.6534, testing error: 0.7510\n",
      "epoch[61][100] training error: 0.6526, testing error: 0.7509\n",
      "epoch[62][100] training error: 0.6517, testing error: 0.7507\n",
      "epoch[63][100] training error: 0.6509, testing error: 0.7505\n",
      "epoch[64][100] training error: 0.6501, testing error: 0.7504\n",
      "epoch[65][100] training error: 0.6494, testing error: 0.7503\n",
      "epoch[66][100] training error: 0.6487, testing error: 0.7501\n",
      "epoch[67][100] training error: 0.6480, testing error: 0.7500\n",
      "epoch[68][100] training error: 0.6473, testing error: 0.7499\n",
      "epoch[69][100] training error: 0.6466, testing error: 0.7498\n",
      "epoch[70][100] training error: 0.6459, testing error: 0.7498\n",
      "epoch[71][100] training error: 0.6453, testing error: 0.7497\n",
      "epoch[72][100] training error: 0.6447, testing error: 0.7496\n",
      "epoch[73][100] training error: 0.6441, testing error: 0.7495\n",
      "epoch[74][100] training error: 0.6435, testing error: 0.7495\n",
      "epoch[75][100] training error: 0.6430, testing error: 0.7494\n",
      "epoch[76][100] training error: 0.6424, testing error: 0.7494\n",
      "epoch[77][100] training error: 0.6419, testing error: 0.7493\n",
      "epoch[78][100] training error: 0.6414, testing error: 0.7493\n",
      "epoch[79][100] training error: 0.6409, testing error: 0.7493\n",
      "epoch[80][100] training error: 0.6404, testing error: 0.7493\n",
      "epoch[81][100] training error: 0.6399, testing error: 0.7493\n",
      "epoch[82][100] training error: 0.6394, testing error: 0.7493\n",
      "epoch[83][100] training error: 0.6390, testing error: 0.7493\n",
      "epoch[84][100] training error: 0.6386, testing error: 0.7493\n",
      "epoch[85][100] training error: 0.6381, testing error: 0.7493\n",
      "epoch[86][100] training error: 0.6377, testing error: 0.7493\n",
      "epoch[87][100] training error: 0.6373, testing error: 0.7492\n",
      "epoch[88][100] training error: 0.6369, testing error: 0.7493\n",
      "epoch[89][100] training error: 0.6365, testing error: 0.7493\n",
      "epoch[90][100] training error: 0.6361, testing error: 0.7493\n",
      "epoch[91][100] training error: 0.6357, testing error: 0.7493\n",
      "epoch[92][100] training error: 0.6354, testing error: 0.7493\n",
      "epoch[93][100] training error: 0.6350, testing error: 0.7493\n",
      "epoch[94][100] training error: 0.6347, testing error: 0.7493\n",
      "epoch[95][100] training error: 0.6343, testing error: 0.7494\n",
      "epoch[96][100] training error: 0.6340, testing error: 0.7494\n",
      "epoch[97][100] training error: 0.6337, testing error: 0.7494\n",
      "epoch[98][100] training error: 0.6333, testing error: 0.7494\n",
      "epoch[99][100] training error: 0.6330, testing error: 0.7495\n",
      "epoch[100][100] training error: 0.6327, testing error: 0.7495\n"
     ]
    },
    {
     "data": {
      "image/png": "[encoded data removed]",
      "text/plain": [
       "<matplotlib.figure.Figure at 0x7ff4ad24b908>"
      ]
     },
     "metadata": {},
     "output_type": "display_data"
    }
   ],
   "source": [
    "if __name__ == '__main__':\n",
    "\tmain()"
   ]
  },
  {
   "cell_type": "code",
   "execution_count": null,
   "metadata": {
    "collapsed": true
   },
   "outputs": [],
   "source": []
  }
 ],
 "metadata": {
  "kernelspec": {
   "display_name": "Python 3",
   "language": "python",
   "name": "python3"
  },
  "language_info": {
   "codemirror_mode": {
    "name": "ipython",
    "version": 3
   },
   "file_extension": ".py",
   "mimetype": "text/x-python",
   "name": "python",
   "nbconvert_exporter": "python",
   "pygments_lexer": "ipython3",
   "version": "3.6.3"
  }
 },
 "nbformat": 4,
 "nbformat_minor": 2
}
